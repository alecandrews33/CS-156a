{
 "cells": [
  {
   "cell_type": "code",
   "execution_count": 204,
   "metadata": {},
   "outputs": [],
   "source": [
    "# Numbers 5, 6, and 7\n",
    "\n",
    "# Import modules for helper functions.\n",
    "\n",
    "import numpy \n",
    "import matplotlib.pyplot as plt\n",
    "import seaborn as sns\n",
    "import random\n",
    "from numpy import matrix\n",
    "from numpy import linalg\n",
    "sns.set_context('notebook')\n",
    "%matplotlib inline"
   ]
  },
  {
   "cell_type": "code",
   "execution_count": 205,
   "metadata": {
    "collapsed": true
   },
   "outputs": [],
   "source": [
    "# Helper function to create random points for the training set. The artificial coordinate, x0 has been added.\n",
    "\n",
    "def PointGenerator(M):\n",
    "    x = []\n",
    "   \n",
    "    for i in range(M):\n",
    "        x_value = random.uniform(-1, 1)\n",
    "           \n",
    "        y_value = random.uniform(-1, 1)\n",
    "                    \n",
    "        new = [1, x_value, y_value]  \n",
    "                \n",
    "        x.append(new)\n",
    "    \n",
    "    return x"
   ]
  },
  {
   "cell_type": "code",
   "execution_count": 206,
   "metadata": {
    "collapsed": true
   },
   "outputs": [],
   "source": [
    "# Helper Function to create target function. Returns slope and y - intercept of line to be used later.\n",
    "\n",
    "def LineGenerator():\n",
    "    first_x_point = random.uniform(-1, 1)\n",
    "    \n",
    "    second_x_point = random.uniform(-1, 1)\n",
    "    \n",
    "    first_y_point = random.uniform(-1, 1)\n",
    "    \n",
    "    second_y_point = random.uniform(-1, 1)\n",
    "    \n",
    "    first_point = [first_x_point, first_y_point]\n",
    "    second_point = [second_x_point, second_y_point]\n",
    "    \n",
    "    slope = (first_point[1] - second_point[1]) / (first_point[0] - \n",
    "             second_point[0])   \n",
    "    intercept = first_y_point - slope * first_x_point\n",
    "    \n",
    "    \n",
    "    return(slope, intercept)"
   ]
  },
  {
   "cell_type": "code",
   "execution_count": 207,
   "metadata": {
    "collapsed": true
   },
   "outputs": [],
   "source": [
    "# Helper function to create a list of the outcomes for the data points. It returns this list.\n",
    "\n",
    "def PointClassifier(data_set, line):\n",
    "    y = []\n",
    "    for point in data_set:\n",
    "        if point[2] >= line[0] * point[1] + line[1]:\n",
    "            y_n = 1\n",
    "        else:\n",
    "            y_n = -1\n",
    "        y.append(y_n)\n",
    "    return y\n",
    "        "
   ]
  },
  {
   "cell_type": "code",
   "execution_count": 208,
   "metadata": {
    "collapsed": true
   },
   "outputs": [],
   "source": [
    "# Function that runs the linear regression algorithm. It then checks to see if the weight vector is correct, and \n",
    "# accordingly calculates E_in. It returns the target function, the weight vector, E_in, the set of data points, and \n",
    "# the outcomes of the data points.\n",
    "\n",
    "def LinearRegression(N):\n",
    "    X = PointGenerator(N)\n",
    "    line = LineGenerator()\n",
    "    y = PointClassifier(X, line)\n",
    "    \n",
    "    y = matrix(y)\n",
    "    X = matrix(X)\n",
    "    X_trans_X = X.T * X    \n",
    "    Inverse = X_trans_X.I\n",
    "    X_transposed = matrix(X).T\n",
    "    dagger = Inverse * X_transposed\n",
    "    weight = dagger * y.T\n",
    "    counter = 0\n",
    "    weight_x = weight.T * X.T\n",
    "    for i in range(N):\n",
    "        if numpy.sign(weight_x.flat[i]) != y.flat[i]:\n",
    "            counter += 1\n",
    "    \n",
    "    E_in = counter / N\n",
    "    \n",
    "    return(line, weight, E_in, X, y)\n",
    "    "
   ]
  },
  {
   "cell_type": "code",
   "execution_count": 209,
   "metadata": {},
   "outputs": [
    {
     "name": "stdout",
     "output_type": "stream",
     "text": [
      "0.03885000000000005\n"
     ]
    }
   ],
   "source": [
    "# Run Linear Regression on 100 points 1000 times and find the average E_in. This is the answer to #5. Keep track \n",
    "# of the target functions and the corresponding weight vectors.\n",
    "\n",
    "average = 0\n",
    "lines = []\n",
    "weights = []\n",
    "for i in range(1000):\n",
    "    result = LinearRegression(100)\n",
    "    lines.append(result[0])\n",
    "    weights.append(result[1])\n",
    "    average += result[2]\n",
    "average = float(average) / float(1000)\n",
    "print(average)"
   ]
  },
  {
   "cell_type": "code",
   "execution_count": 210,
   "metadata": {},
   "outputs": [
    {
     "name": "stdout",
     "output_type": "stream",
     "text": [
      "0.04903799999999999\n"
     ]
    }
   ],
   "source": [
    "# For 1000 new data points, see how your weight vector works in classifying them. This block classifies the new \n",
    "# data points and then compares that classification to the outcomes from the weight vector. It does this 1000 times,\n",
    "# to get an average E_out, which is the answer to #6.\n",
    "\n",
    "average = 0\n",
    "for i in range(1000):\n",
    "    counter = 0\n",
    "    out_sample = PointGenerator(1000)\n",
    "    y = matrix(PointClassifier(out_sample, lines[i]))\n",
    "    out_sample = matrix(out_sample)\n",
    "    weight = weights[i]\n",
    "    weight_sample = weight.T * out_sample.T\n",
    "    for i in range(1000):\n",
    "        if numpy.sign(weight_sample.flat[i]) != y.flat[i]:\n",
    "            counter += 1\n",
    "    average += counter / 1000\n",
    "print(average / 1000)    \n",
    "    \n",
    "    "
   ]
  },
  {
   "cell_type": "code",
   "execution_count": 211,
   "metadata": {},
   "outputs": [],
   "source": [
    "def Perceptron(N, training_set, weight, y):\n",
    "    # Initialize number of iterations to 0.\n",
    "    iterations = 0 \n",
    "    \n",
    "    # Take initial weight and turn it into a list.\n",
    "    weight = weight.tolist()\n",
    "    training_set = training_set.tolist()\n",
    "    y = y.tolist()\n",
    "    y = y[0]\n",
    "    \n",
    "    \n",
    "    for i in range(N):\n",
    "        training_set[i].append(y[i])\n",
    "    \n",
    "    # Initialize misclassified list and put all points in at start since they all start misclassified.\n",
    "    misclassified = []\n",
    "    for i in range(N):\n",
    "        misclassified.append(training_set[i])\n",
    "    \n",
    "    # While there are still misclassified points, choose a random one, \n",
    "    # update the weight vector accordingly, empty the misclassified list, and then\n",
    "    # check to see if any points are still misclassified while keeping track of iterations.\n",
    "    while (misclassified != []):\n",
    "        selection = random.choice(misclassified)\n",
    "        weight[0][0] += (selection[0] * selection[3])\n",
    "        weight[1][0] += (selection[1] * selection[3])\n",
    "        weight[2][0] += (selection[2] * selection[3])\n",
    "        misclassified = []\n",
    "        for i in range(N):\n",
    "            if np.sign(training_set[i][0] * weight[0][0] + \n",
    "               training_set[i][1] * weight[1][0] + training_set[i][2] * weight[2][0]) != training_set[i][3]:\n",
    "                misclassified.append(training_set[i])\n",
    "        iterations += 1\n",
    "      \n",
    "    \n",
    "    return(iterations)"
   ]
  },
  {
   "cell_type": "code",
   "execution_count": 212,
   "metadata": {},
   "outputs": [
    {
     "name": "stdout",
     "output_type": "stream",
     "text": [
      "6.576\n"
     ]
    }
   ],
   "source": [
    "# Run the Linear Regression algorithm to find an initial weight vector on ten points. Then use the PLA until there are \n",
    "# no more misclassified points. Find the average number of iterations across 1000 runs. This answers number 7.\n",
    "\n",
    "avg_iterations = 0\n",
    "for i in range(1000):\n",
    "    result = LinearRegression(10)\n",
    "    X = result[3]\n",
    "    weight = result[1]\n",
    "    y = result[4]\n",
    "    avg_iterations += Perceptron(10, X, weight, y)\n",
    "avg_iterations = avg_iterations / 1000\n",
    "print(avg_iterations)\n",
    "    "
   ]
  },
  {
   "cell_type": "code",
   "execution_count": null,
   "metadata": {
    "collapsed": true
   },
   "outputs": [],
   "source": []
  }
 ],
 "metadata": {
  "kernelspec": {
   "display_name": "Python 3",
   "language": "python",
   "name": "python3"
  },
  "language_info": {
   "codemirror_mode": {
    "name": "ipython",
    "version": 3
   },
   "file_extension": ".py",
   "mimetype": "text/x-python",
   "name": "python",
   "nbconvert_exporter": "python",
   "pygments_lexer": "ipython3",
   "version": "3.6.5"
  }
 },
 "nbformat": 4,
 "nbformat_minor": 2
}
