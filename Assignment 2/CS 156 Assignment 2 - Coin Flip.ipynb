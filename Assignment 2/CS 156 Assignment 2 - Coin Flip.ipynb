{
 "cells": [
  {
   "cell_type": "code",
   "execution_count": 1,
   "metadata": {
    "collapsed": true
   },
   "outputs": [],
   "source": [
    "# Number 1 and 2\n",
    "\n",
    "# Here we will define a coin class to do all of the operations and keep track of an individual coin's\n",
    "# outcomes.\n",
    "\n",
    "import random\n",
    "\n",
    "class Coin(object):\n",
    "    def __init__(self):\n",
    "        self.heads = 0\n",
    "        self.tails = 0\n",
    "    def flip(self):\n",
    "        choices = [True, False]\n",
    "        outcome = random.choice(choices)\n",
    "        if outcome:\n",
    "            self.heads += 1\n",
    "        else:\n",
    "            self.tails += 1"
   ]
  },
  {
   "cell_type": "code",
   "execution_count": 2,
   "metadata": {},
   "outputs": [],
   "source": [
    "# This function will flip 1000 coins ten times, and keep track of their heads. It also keeps track of the coin with\n",
    "# the smallest number of heads. It returns the frequency of heads for the first coin, a random coin, and the coin\n",
    "# with the lowest number of heads.\n",
    "\n",
    "def Flipper():\n",
    "    coin_list = []\n",
    "\n",
    "    c_1 = Coin()\n",
    "    for j in range(10):\n",
    "        c_1.flip()\n",
    "    coin_list.append(c_1)\n",
    "    smallest = c_1\n",
    "\n",
    "    for i in range(999):\n",
    "        coin = Coin()\n",
    "        for j in range(10):\n",
    "            coin.flip()\n",
    "        coin_list.append(coin)\n",
    "        if coin.heads < smallest.heads:\n",
    "            smallest = coin\n",
    "\n",
    "    c_rand = random.choice(coin_list)\n",
    "    c_min = smallest\n",
    "\n",
    "    v_1 = c_1.heads / 10\n",
    "    v_rand = c_rand.heads / 10\n",
    "    v_min = c_min.heads / 10\n",
    "\n",
    "    return(v_1, v_rand, v_min)\n",
    "\n",
    "\n",
    "    \n",
    "        \n"
   ]
  },
  {
   "cell_type": "code",
   "execution_count": 8,
   "metadata": {},
   "outputs": [
    {
     "name": "stdout",
     "output_type": "stream",
     "text": [
      "0.49968800000000047\n",
      "0.5003879999999975\n",
      "0.03743199999997691\n"
     ]
    }
   ],
   "source": [
    "# We calculate the average frequency of heads for the first coin, a random coin, and the coin with the lowest number\n",
    "# of heads over 100,000 trials. The data is printed respectively.\n",
    "\n",
    "v_1_average = 0\n",
    "v_rand_average = 0\n",
    "v_min_average = 0\n",
    "for i in range(100000):\n",
    "    result = Flipper()\n",
    "    v_1_average += result[0]\n",
    "    v_rand_average += result[1]\n",
    "    v_min_average += result[2]\n",
    "    \n",
    "v_1_average = v_1_average / float(100000)\n",
    "v_rand_average = v_rand_average / float(100000)\n",
    "v_min_average = v_min_average / float(100000)\n",
    "\n",
    "print(v_1_average)\n",
    "print(v_rand_average)\n",
    "print(v_min_average)"
   ]
  },
  {
   "cell_type": "code",
   "execution_count": null,
   "metadata": {
    "collapsed": true
   },
   "outputs": [],
   "source": []
  }
 ],
 "metadata": {
  "kernelspec": {
   "display_name": "Python 3",
   "language": "python",
   "name": "python3"
  },
  "language_info": {
   "codemirror_mode": {
    "name": "ipython",
    "version": 3
   },
   "file_extension": ".py",
   "mimetype": "text/x-python",
   "name": "python",
   "nbconvert_exporter": "python",
   "pygments_lexer": "ipython3",
   "version": "3.6.5"
  }
 },
 "nbformat": 4,
 "nbformat_minor": 2
}
