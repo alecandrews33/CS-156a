{
 "cells": [
  {
   "cell_type": "code",
   "execution_count": 47,
   "metadata": {
    "collapsed": true
   },
   "outputs": [],
   "source": [
    "import numpy as np\n",
    "import matplotlib.pyplot as plt\n",
    "import seaborn as sns\n",
    "import random\n",
    "from numpy import matrix\n",
    "from numpy import linalg\n",
    "sns.set_context('notebook')\n",
    "%matplotlib inline"
   ]
  },
  {
   "cell_type": "code",
   "execution_count": 48,
   "metadata": {
    "collapsed": true
   },
   "outputs": [],
   "source": [
    "def PointGenerator(M):\n",
    "   \n",
    "    for i in range(M):\n",
    "        x_value = random.uniform(-1, 1)\n",
    "           \n",
    "        y_value = np.sin(np.pi * x_value)\n",
    "                    \n",
    "        new = [x_value, y_value]  \n",
    "                \n",
    "    \n",
    "    return new"
   ]
  },
  {
   "cell_type": "code",
   "execution_count": 52,
   "metadata": {
    "collapsed": false
   },
   "outputs": [],
   "source": [
    "def MeanSquaredError():\n",
    "    point1 = PointGenerator(1)\n",
    "    point2 = PointGenerator(2)\n",
    "    \n",
    "    a = (point1[1] * point1[0] + point2[1] * point2[0])/(point1[0]**2\n",
    "                                                         + point2[0]**2)\n",
    "    return a\n"
   ]
  },
  {
   "cell_type": "code",
   "execution_count": 55,
   "metadata": {
    "collapsed": false
   },
   "outputs": [
    {
     "name": "stdout",
     "output_type": "stream",
     "text": [
      "1.42943584851\n"
     ]
    }
   ],
   "source": [
    "error = 0\n",
    "for i in range(10000):\n",
    "    error += MeanSquaredError()\n",
    "print(error/ 10000)"
   ]
  },
  {
   "cell_type": "code",
   "execution_count": 60,
   "metadata": {
    "collapsed": true
   },
   "outputs": [],
   "source": [
    "def variance():\n",
    "    error = 0\n",
    "    for i in range(10000):\n",
    "        point = PointGenerator(1)\n",
    "        a = MeanSquaredError()\n",
    "        g = 1.43 * point[0]\n",
    "        y = a * point[0]\n",
    "        error += (g - y)**2\n",
    "    return error / 10000"
   ]
  },
  {
   "cell_type": "code",
   "execution_count": 61,
   "metadata": {
    "collapsed": false
   },
   "outputs": [
    {
     "data": {
      "text/plain": [
       "0.23366654769029638"
      ]
     },
     "execution_count": 61,
     "metadata": {},
     "output_type": "execute_result"
    }
   ],
   "source": [
    "variance()"
   ]
  },
  {
   "cell_type": "code",
   "execution_count": 62,
   "metadata": {
    "collapsed": true
   },
   "outputs": [],
   "source": [
    "def bias():\n",
    "    error = 0\n",
    "    for i in range(10000):\n",
    "        point = PointGenerator(1)\n",
    "        error += (1.43 * point[0] - point[1])**2\n",
    "    return error / 10000"
   ]
  },
  {
   "cell_type": "code",
   "execution_count": 63,
   "metadata": {
    "collapsed": false
   },
   "outputs": [
    {
     "data": {
      "text/plain": [
       "0.2729067298793254"
      ]
     },
     "execution_count": 63,
     "metadata": {},
     "output_type": "execute_result"
    }
   ],
   "source": [
    "bias()"
   ]
  },
  {
   "cell_type": "code",
   "execution_count": 64,
   "metadata": {
    "collapsed": true
   },
   "outputs": [],
   "source": [
    "def NewMeanSquaredError():\n",
    "    point1 = PointGenerator(1)\n",
    "    point2 = PointGenerator(2)\n",
    "    \n",
    "    a = (point1[1] * point1[0]**2 + point2[1] * point2[0]**2)/(point1[0]**4\n",
    "                                                         + point2[0]**4)\n",
    "    return a"
   ]
  },
  {
   "cell_type": "code",
   "execution_count": 81,
   "metadata": {
    "collapsed": false
   },
   "outputs": [
    {
     "name": "stdout",
     "output_type": "stream",
     "text": [
      "0.00208717197919\n"
     ]
    }
   ],
   "source": [
    "error = 0\n",
    "for i in range(100000):\n",
    "    error += NewMeanSquaredError()\n",
    "print (error / 100000)"
   ]
  },
  {
   "cell_type": "code",
   "execution_count": 84,
   "metadata": {
    "collapsed": true
   },
   "outputs": [],
   "source": [
    "def NewVariance():\n",
    "    error = 0\n",
    "    for i in range(10000):\n",
    "        point = PointGenerator(1)\n",
    "        a = NewMeanSquaredError()\n",
    "        g = 0\n",
    "        y = a * point[0]\n",
    "        error += (g - y)**2\n",
    "    return error / 10000"
   ]
  },
  {
   "cell_type": "code",
   "execution_count": 90,
   "metadata": {
    "collapsed": false
   },
   "outputs": [
    {
     "data": {
      "text/plain": [
       "18.873802988116051"
      ]
     },
     "execution_count": 90,
     "metadata": {},
     "output_type": "execute_result"
    }
   ],
   "source": [
    "NewVariance()"
   ]
  },
  {
   "cell_type": "code",
   "execution_count": null,
   "metadata": {
    "collapsed": true
   },
   "outputs": [],
   "source": []
  }
 ],
 "metadata": {
  "kernelspec": {
   "display_name": "Python 3",
   "language": "python",
   "name": "python3"
  },
  "language_info": {
   "codemirror_mode": {
    "name": "ipython",
    "version": 3
   },
   "file_extension": ".py",
   "mimetype": "text/x-python",
   "name": "python",
   "nbconvert_exporter": "python",
   "pygments_lexer": "ipython3",
   "version": "3.6.0"
  }
 },
 "nbformat": 4,
 "nbformat_minor": 2
}
