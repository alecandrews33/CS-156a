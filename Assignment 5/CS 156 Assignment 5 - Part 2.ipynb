{
 "cells": [
  {
   "cell_type": "code",
   "execution_count": 1,
   "metadata": {
    "collapsed": true
   },
   "outputs": [],
   "source": [
    "import numpy as np\n",
    "import matplotlib.pyplot as plt\n",
    "import seaborn as sns\n",
    "import random\n",
    "from numpy import matrix\n",
    "from numpy import linalg\n",
    "sns.set_context('notebook')\n",
    "%matplotlib inline"
   ]
  },
  {
   "cell_type": "code",
   "execution_count": 2,
   "metadata": {
    "collapsed": true
   },
   "outputs": [],
   "source": [
    "def PointGenerator(M):\n",
    "    x = []\n",
    "   \n",
    "    for i in range(M):\n",
    "        x_value = random.uniform(-1, 1)\n",
    "           \n",
    "        y_value = random.uniform(-1, 1)\n",
    "                    \n",
    "        new = [1, x_value, y_value]  \n",
    "                \n",
    "        x.append(new)\n",
    "    \n",
    "    return x"
   ]
  },
  {
   "cell_type": "code",
   "execution_count": 3,
   "metadata": {
    "collapsed": true
   },
   "outputs": [],
   "source": [
    "def LineGenerator():\n",
    "    first_x_point = random.uniform(-1, 1)\n",
    "    \n",
    "    second_x_point = random.uniform(-1, 1)\n",
    "    \n",
    "    first_y_point = random.uniform(-1, 1)\n",
    "    \n",
    "    second_y_point = random.uniform(-1, 1)\n",
    "    \n",
    "    first_point = [first_x_point, first_y_point]\n",
    "    second_point = [second_x_point, second_y_point]\n",
    "    \n",
    "    slope = (first_point[1] - second_point[1]) / (first_point[0] - \n",
    "             second_point[0])   \n",
    "    intercept = first_y_point - slope * first_x_point\n",
    "    \n",
    "    \n",
    "    return(slope, intercept)"
   ]
  },
  {
   "cell_type": "code",
   "execution_count": 4,
   "metadata": {
    "collapsed": true
   },
   "outputs": [],
   "source": [
    "def PointClassifier(data_set, line):\n",
    "    y = []\n",
    "    for point in data_set:\n",
    "        if point[2] >= line[0] * point[1] + line[1]:\n",
    "            y_n = 1\n",
    "        else:\n",
    "            y_n = -1\n",
    "        y.append(y_n)\n",
    "    return y"
   ]
  },
  {
   "cell_type": "code",
   "execution_count": 5,
   "metadata": {
    "collapsed": true
   },
   "outputs": [],
   "source": [
    "def magnitude(w1, w2):\n",
    "    mag = 0\n",
    "    for i in range(3):\n",
    "        mag += (w1[i] - w2[i])**2\n",
    "    return np.sqrt(mag)\n",
    "    "
   ]
  },
  {
   "cell_type": "code",
   "execution_count": 6,
   "metadata": {
    "collapsed": false
   },
   "outputs": [],
   "source": [
    "def E_in(w, x, y):\n",
    "    x2 = [x[0] * y, x[1] * y, x[2] * y]\n",
    "    exponent = (w[0] * x[0] + x[1] * w[1] + x[2] * w[2]) * y\n",
    "    denominator = 1 + np.exp(exponent)\n",
    "    return [x2[0] / denominator, x2[1] / denominator, x2[2] / denominator]"
   ]
  },
  {
   "cell_type": "code",
   "execution_count": 7,
   "metadata": {
    "collapsed": true
   },
   "outputs": [],
   "source": [
    "def Logistic(N):\n",
    "    n = .01\n",
    "    data_set = PointGenerator(N)\n",
    "    line = LineGenerator()\n",
    "    order_list = []\n",
    "    for i in range(100):\n",
    "        order_list.append(i)\n",
    "    y_values = PointClassifier(data_set, line)\n",
    "    weight = [0, 0, 0]\n",
    "    old_weight = [10, 10, 10]\n",
    "    epochs = 0\n",
    "    while(magnitude(old_weight, weight) >= 0.01):\n",
    "        epochs += 1\n",
    "        random.shuffle(order_list)\n",
    "        old_weight = weight[:]\n",
    "        for i in order_list:\n",
    "            e_in = E_in(weight, data_set[i], y_values[i])\n",
    "            weight[0] += n*e_in[0]\n",
    "            weight[1] += n*e_in[1]\n",
    "            weight[2] += n*e_in[2]\n",
    "            \n",
    "    return(line, weight, epochs)"
   ]
  },
  {
   "cell_type": "code",
   "execution_count": 8,
   "metadata": {
    "collapsed": true
   },
   "outputs": [],
   "source": [
    "def Error(line, w):\n",
    "    error = 0\n",
    "    data_set = PointGenerator(1000)\n",
    "    y_values = PointClassifier(data_set, line)\n",
    "    \n",
    "    for i in range(1000):\n",
    "        wx = w[0] * data_set[i][0] + w[1] * data_set[i][1] + w[2] * data_set[i][2]\n",
    "        error += np.log(1 + np.exp(-y_values[i]*wx))\n",
    "        \n",
    "    return error / 1000"
   ]
  },
  {
   "cell_type": "code",
   "execution_count": 9,
   "metadata": {
    "collapsed": false
   },
   "outputs": [
    {
     "name": "stdout",
     "output_type": "stream",
     "text": [
      "348.59\n",
      "0.101775517351\n"
     ]
    }
   ],
   "source": [
    "epochs = 0\n",
    "error = 0\n",
    "k = 100\n",
    "for j in range(k):\n",
    "    answer = Logistic(100)\n",
    "    error += Error(answer[0], answer[1])\n",
    "    epochs += answer[2]\n",
    "epochs = epochs / k\n",
    "error = error / k\n",
    "print(epochs)\n",
    "print(error)"
   ]
  },
  {
   "cell_type": "code",
   "execution_count": null,
   "metadata": {
    "collapsed": true
   },
   "outputs": [],
   "source": []
  },
  {
   "cell_type": "code",
   "execution_count": null,
   "metadata": {
    "collapsed": true
   },
   "outputs": [],
   "source": []
  }
 ],
 "metadata": {
  "kernelspec": {
   "display_name": "Python 3",
   "language": "python",
   "name": "python3"
  },
  "language_info": {
   "codemirror_mode": {
    "name": "ipython",
    "version": 3
   },
   "file_extension": ".py",
   "mimetype": "text/x-python",
   "name": "python",
   "nbconvert_exporter": "python",
   "pygments_lexer": "ipython3",
   "version": "3.6.0"
  }
 },
 "nbformat": 4,
 "nbformat_minor": 2
}
