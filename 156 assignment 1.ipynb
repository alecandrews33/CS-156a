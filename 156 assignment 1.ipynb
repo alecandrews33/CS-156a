{
 "cells": [
  {
   "cell_type": "code",
   "execution_count": 30,
   "metadata": {
    "collapsed": true
   },
   "outputs": [],
   "source": [
    "# Import modules for helper functions.\n",
    "\n",
    "import numpy as np\n",
    "import matplotlib.pyplot as plt\n",
    "import seaborn as sns\n",
    "import random\n",
    "sns.set_context('notebook')\n",
    "%matplotlib inline\n"
   ]
  },
  {
   "cell_type": "code",
   "execution_count": 31,
   "metadata": {
    "collapsed": true
   },
   "outputs": [],
   "source": [
    "# Helper function to create random points for the training set.\n",
    "\n",
    "def PointGenerator(M):\n",
    "    x = []\n",
    "   \n",
    "    for i in range(M):\n",
    "        x_value = random.uniform(-1, 1)\n",
    "           \n",
    "        y_value = random.uniform(-1, 1)\n",
    "                    \n",
    "        new = [x_value, y_value]  \n",
    "                \n",
    "        x.append(new)\n",
    "    \n",
    "    return x"
   ]
  },
  {
   "cell_type": "code",
   "execution_count": 32,
   "metadata": {},
   "outputs": [],
   "source": [
    "# Helper Function to create target function. Returns slope and y - intercept of line to be used later.\n",
    "\n",
    "def LineGenerator():\n",
    "    first_x_point = random.uniform(-1, 1)\n",
    "    \n",
    "    second_x_point = random.uniform(-1, 1)\n",
    "    \n",
    "    first_y_point = random.uniform(-1, 1)\n",
    "    \n",
    "    second_y_point = random.uniform(-1, 1)\n",
    "    \n",
    "    first_point = [first_x_point, first_y_point]\n",
    "    second_point = [second_x_point, second_y_point]\n",
    "    \n",
    "    slope = (first_point[1] - second_point[1]) / (first_point[0] - \n",
    "             second_point[0])   \n",
    "    intercept = first_y_point - slope * first_x_point\n",
    "    \n",
    "    \n",
    "    return(slope, intercept)"
   ]
  },
  {
   "cell_type": "code",
   "execution_count": 33,
   "metadata": {},
   "outputs": [],
   "source": [
    "# Perceptron Algorithm on N training data points.\n",
    "\n",
    "def Perceptron(N):\n",
    "    # Initialize our training set.\n",
    "    training_set = []\n",
    "\n",
    "    # Generate a list of N points.\n",
    "    x = PointGenerator(N)\n",
    "    \n",
    "    # Create the target function.\n",
    "    line = LineGenerator()\n",
    "\n",
    "    # Extract information from target function for labeling.\n",
    "    slope = line[0] \n",
    "    intercept = line[1]\n",
    "    \n",
    "    # Label each random point with a value of 1 if above or on line and -1 if below it.\n",
    "    for i in range(N):\n",
    "        if x[i][1] >= x[i][0] * slope + intercept:\n",
    "            output = 1\n",
    "        else:\n",
    "            output = -1\n",
    "        # Create artificial coordinate x0 and put output at end of each point to create a 4-tuple.\n",
    "        training_set.append((1, x[i][0], x[i][1], output))\n",
    "    \n",
    "    # Initialize weight vector to 0.\n",
    "    weight = [0, 0, 0]  \n",
    "    \n",
    "    # Initialize number of iterations to 0.\n",
    "    iterations = 0\n",
    "    \n",
    "    # Initialize misclassified list and put all points in at start since they all start misclassified.\n",
    "    misclassified = []\n",
    "    for i in range(N):\n",
    "        misclassified.append(training_set[i])\n",
    "    \n",
    "    # While there are still misclassified points, choose a random one, \n",
    "    # update the weight vector accordingly, empty the misclassified list, and then\n",
    "    # check to see if any points are still misclassified while keeping track of iterations.\n",
    "    while (misclassified != []):\n",
    "        selection = random.choice(misclassified)\n",
    "        weight[0] += (selection[0] * selection[3])\n",
    "        weight[1] += (selection[1] * selection[3])\n",
    "        weight[2] += (selection[2] * selection[3])\n",
    "        misclassified = []\n",
    "        for i in range(N):\n",
    "            if np.sign(training_set[i][0] * weight[0] + \n",
    "               training_set[i][1] * weight[1] + training_set[i][2] * weight[2]) != training_set[i][3]:\n",
    "                misclassified.append(training_set[i])\n",
    "        iterations += 1\n",
    "        \n",
    "    \n",
    "    # Initialize counter for disagreement values.   \n",
    "    counter = 0\n",
    "    \n",
    "    # Generate large amountof out of sample data points.\n",
    "    list_points = PointGenerator(10**4)\n",
    "    \n",
    "    # For each point in the out of sample group, see if it is above or below line and give value accordingly.\n",
    "    for point in list_points:\n",
    "        if point[1] >= slope * (point[0]) + intercept:\n",
    "            output = 1\n",
    "        else:\n",
    "            output = -1\n",
    "        point.append(output)\n",
    "    \n",
    "   \n",
    "       \n",
    "    # For each point in the out of sample group, see if our weight vector gives same value that was given with \n",
    "    # target function. If not, add one to counter.\n",
    "    for point in list_points:    \n",
    "        if (np.sign(weight[0] + weight[1] * point[0] + weight[2] * point[1]) != point[2]):\n",
    "            counter += 1\n",
    "\n",
    "    # Find number incorrect over total number of points.\n",
    "    disagreement = counter / 10**4   \n",
    "    \n",
    "    return(iterations, disagreement)\n",
    "        "
   ]
  },
  {
   "cell_type": "code",
   "execution_count": 34,
   "metadata": {
    "scrolled": true
   },
   "outputs": [
    {
     "name": "stdout",
     "output_type": "stream",
     "text": [
      "iterations = 13.305\n",
      "disagreement = 0.10931250000000017\n"
     ]
    }
   ],
   "source": [
    "# Run 1000 times for 10 training data points. Calculate average iterations and disagreement.\n",
    "average_iterations = 0\n",
    "average_disagreement = 0\n",
    "for i in range(1000):\n",
    "    result = Perceptron(10)\n",
    "    average_iterations += result[0]\n",
    "    average_disagreement += result[1]\n",
    "average_iterations = average_iterations / 1000\n",
    "average_disagreement = average_disagreement / 1000\n",
    "print('iterations = %s' % average_iterations)\n",
    "print('disagreement = %s' %average_disagreement)\n"
   ]
  },
  {
   "cell_type": "code",
   "execution_count": 35,
   "metadata": {},
   "outputs": [
    {
     "name": "stdout",
     "output_type": "stream",
     "text": [
      "iterations = 106.721\n",
      "disagreement = 0.01364059999999999\n"
     ]
    }
   ],
   "source": [
    "# Run algorithm 1000 times for 100 training data points. Calculate average iterations and disagreement.\n",
    "average_iterations = 0\n",
    "average_disagreement = 0\n",
    "for i in range(1000):\n",
    "    result = Perceptron(100)\n",
    "    average_iterations += result[0]\n",
    "    average_disagreement += result[1]\n",
    "average_iterations = average_iterations / 1000\n",
    "average_disagreement = average_disagreement / 1000\n",
    "print('iterations = %s' % average_iterations)\n",
    "print('disagreement = %s' % average_disagreement)"
   ]
  }
 ],
 "metadata": {
  "kernelspec": {
   "display_name": "Python 3",
   "language": "python",
   "name": "python3"
  },
  "language_info": {
   "codemirror_mode": {
    "name": "ipython",
    "version": 3
   },
   "file_extension": ".py",
   "mimetype": "text/x-python",
   "name": "python",
   "nbconvert_exporter": "python",
   "pygments_lexer": "ipython3",
   "version": "3.6.5"
  }
 },
 "nbformat": 4,
 "nbformat_minor": 2
}
